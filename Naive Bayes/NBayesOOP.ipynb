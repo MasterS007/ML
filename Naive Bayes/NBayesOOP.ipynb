{
  "nbformat": 4,
  "nbformat_minor": 0,
  "metadata": {
    "colab": {
      "name": "NBayesOOP.ipynb",
      "provenance": [],
      "collapsed_sections": []
    },
    "kernelspec": {
      "name": "python3",
      "display_name": "Python 3"
    },
    "language_info": {
      "name": "python"
    }
  },
  "cells": [
    {
      "cell_type": "code",
      "execution_count": 1,
      "metadata": {
        "id": "KhR_BSj30NyS"
      },
      "outputs": [],
      "source": [
        "import pandas as pd\n",
        "import numpy as np\n"
      ]
    },
    {
      "cell_type": "code",
      "source": [
        "path = \"/content/drive/MyDrive/Dataset For Practice/NaiveBayes.csv\"\n",
        "dataset = pd.read_csv(path, delimiter=',')\n",
        "dataset"
      ],
      "metadata": {
        "colab": {
          "base_uri": "https://localhost:8080/",
          "height": 676
        },
        "id": "-awBsE7r27io",
        "outputId": "35b50bfb-43cf-4fbc-98f8-480ef0b79a67"
      },
      "execution_count": 3,
      "outputs": [
        {
          "output_type": "execute_result",
          "data": {
            "text/plain": [
              "         day   season     wind     rain       class\n",
              "0    weekday   spring     none     none      ontime\n",
              "1    weekday   winter     none   slight      ontime\n",
              "2    weekday   winter     none   slight      ontime\n",
              "3    weekday   winter     high    heavy        late\n",
              "4   saturday   summer   normal     none      ontime\n",
              "5    weekday   autumn   normal     none    verylate\n",
              "6    holiday   summer     high   slight      ontime\n",
              "7     sunday   summer   normal     none      ontime\n",
              "8    weekday   winter     high    heavy    verylate\n",
              "9    weekday   summer     none   slight      ontime\n",
              "10  saturday   spring     high    heavy   cancelled\n",
              "11   weekday   summer     high   slight      ontime\n",
              "12  saturday   winter   normal     none        late\n",
              "13   weekday   summer     high     none      ontime\n",
              "14   weekday   winter   normal    heavy    verylate\n",
              "15  saturday   autumn     high   slight      ontime\n",
              "16   weekday   autumn     none    heavy      ontime\n",
              "17   holiday   spring   normal   slight      ontime\n",
              "18   weekday   spring   normal     none      ontime\n",
              "19   weekday   spring   normal   slight      ontime"
            ],
            "text/html": [
              "\n",
              "  <div id=\"df-ac60e150-db4f-4cb3-b724-f253563625d8\">\n",
              "    <div class=\"colab-df-container\">\n",
              "      <div>\n",
              "<style scoped>\n",
              "    .dataframe tbody tr th:only-of-type {\n",
              "        vertical-align: middle;\n",
              "    }\n",
              "\n",
              "    .dataframe tbody tr th {\n",
              "        vertical-align: top;\n",
              "    }\n",
              "\n",
              "    .dataframe thead th {\n",
              "        text-align: right;\n",
              "    }\n",
              "</style>\n",
              "<table border=\"1\" class=\"dataframe\">\n",
              "  <thead>\n",
              "    <tr style=\"text-align: right;\">\n",
              "      <th></th>\n",
              "      <th>day</th>\n",
              "      <th>season</th>\n",
              "      <th>wind</th>\n",
              "      <th>rain</th>\n",
              "      <th>class</th>\n",
              "    </tr>\n",
              "  </thead>\n",
              "  <tbody>\n",
              "    <tr>\n",
              "      <th>0</th>\n",
              "      <td>weekday</td>\n",
              "      <td>spring</td>\n",
              "      <td>none</td>\n",
              "      <td>none</td>\n",
              "      <td>ontime</td>\n",
              "    </tr>\n",
              "    <tr>\n",
              "      <th>1</th>\n",
              "      <td>weekday</td>\n",
              "      <td>winter</td>\n",
              "      <td>none</td>\n",
              "      <td>slight</td>\n",
              "      <td>ontime</td>\n",
              "    </tr>\n",
              "    <tr>\n",
              "      <th>2</th>\n",
              "      <td>weekday</td>\n",
              "      <td>winter</td>\n",
              "      <td>none</td>\n",
              "      <td>slight</td>\n",
              "      <td>ontime</td>\n",
              "    </tr>\n",
              "    <tr>\n",
              "      <th>3</th>\n",
              "      <td>weekday</td>\n",
              "      <td>winter</td>\n",
              "      <td>high</td>\n",
              "      <td>heavy</td>\n",
              "      <td>late</td>\n",
              "    </tr>\n",
              "    <tr>\n",
              "      <th>4</th>\n",
              "      <td>saturday</td>\n",
              "      <td>summer</td>\n",
              "      <td>normal</td>\n",
              "      <td>none</td>\n",
              "      <td>ontime</td>\n",
              "    </tr>\n",
              "    <tr>\n",
              "      <th>5</th>\n",
              "      <td>weekday</td>\n",
              "      <td>autumn</td>\n",
              "      <td>normal</td>\n",
              "      <td>none</td>\n",
              "      <td>verylate</td>\n",
              "    </tr>\n",
              "    <tr>\n",
              "      <th>6</th>\n",
              "      <td>holiday</td>\n",
              "      <td>summer</td>\n",
              "      <td>high</td>\n",
              "      <td>slight</td>\n",
              "      <td>ontime</td>\n",
              "    </tr>\n",
              "    <tr>\n",
              "      <th>7</th>\n",
              "      <td>sunday</td>\n",
              "      <td>summer</td>\n",
              "      <td>normal</td>\n",
              "      <td>none</td>\n",
              "      <td>ontime</td>\n",
              "    </tr>\n",
              "    <tr>\n",
              "      <th>8</th>\n",
              "      <td>weekday</td>\n",
              "      <td>winter</td>\n",
              "      <td>high</td>\n",
              "      <td>heavy</td>\n",
              "      <td>verylate</td>\n",
              "    </tr>\n",
              "    <tr>\n",
              "      <th>9</th>\n",
              "      <td>weekday</td>\n",
              "      <td>summer</td>\n",
              "      <td>none</td>\n",
              "      <td>slight</td>\n",
              "      <td>ontime</td>\n",
              "    </tr>\n",
              "    <tr>\n",
              "      <th>10</th>\n",
              "      <td>saturday</td>\n",
              "      <td>spring</td>\n",
              "      <td>high</td>\n",
              "      <td>heavy</td>\n",
              "      <td>cancelled</td>\n",
              "    </tr>\n",
              "    <tr>\n",
              "      <th>11</th>\n",
              "      <td>weekday</td>\n",
              "      <td>summer</td>\n",
              "      <td>high</td>\n",
              "      <td>slight</td>\n",
              "      <td>ontime</td>\n",
              "    </tr>\n",
              "    <tr>\n",
              "      <th>12</th>\n",
              "      <td>saturday</td>\n",
              "      <td>winter</td>\n",
              "      <td>normal</td>\n",
              "      <td>none</td>\n",
              "      <td>late</td>\n",
              "    </tr>\n",
              "    <tr>\n",
              "      <th>13</th>\n",
              "      <td>weekday</td>\n",
              "      <td>summer</td>\n",
              "      <td>high</td>\n",
              "      <td>none</td>\n",
              "      <td>ontime</td>\n",
              "    </tr>\n",
              "    <tr>\n",
              "      <th>14</th>\n",
              "      <td>weekday</td>\n",
              "      <td>winter</td>\n",
              "      <td>normal</td>\n",
              "      <td>heavy</td>\n",
              "      <td>verylate</td>\n",
              "    </tr>\n",
              "    <tr>\n",
              "      <th>15</th>\n",
              "      <td>saturday</td>\n",
              "      <td>autumn</td>\n",
              "      <td>high</td>\n",
              "      <td>slight</td>\n",
              "      <td>ontime</td>\n",
              "    </tr>\n",
              "    <tr>\n",
              "      <th>16</th>\n",
              "      <td>weekday</td>\n",
              "      <td>autumn</td>\n",
              "      <td>none</td>\n",
              "      <td>heavy</td>\n",
              "      <td>ontime</td>\n",
              "    </tr>\n",
              "    <tr>\n",
              "      <th>17</th>\n",
              "      <td>holiday</td>\n",
              "      <td>spring</td>\n",
              "      <td>normal</td>\n",
              "      <td>slight</td>\n",
              "      <td>ontime</td>\n",
              "    </tr>\n",
              "    <tr>\n",
              "      <th>18</th>\n",
              "      <td>weekday</td>\n",
              "      <td>spring</td>\n",
              "      <td>normal</td>\n",
              "      <td>none</td>\n",
              "      <td>ontime</td>\n",
              "    </tr>\n",
              "    <tr>\n",
              "      <th>19</th>\n",
              "      <td>weekday</td>\n",
              "      <td>spring</td>\n",
              "      <td>normal</td>\n",
              "      <td>slight</td>\n",
              "      <td>ontime</td>\n",
              "    </tr>\n",
              "  </tbody>\n",
              "</table>\n",
              "</div>\n",
              "      <button class=\"colab-df-convert\" onclick=\"convertToInteractive('df-ac60e150-db4f-4cb3-b724-f253563625d8')\"\n",
              "              title=\"Convert this dataframe to an interactive table.\"\n",
              "              style=\"display:none;\">\n",
              "        \n",
              "  <svg xmlns=\"http://www.w3.org/2000/svg\" height=\"24px\"viewBox=\"0 0 24 24\"\n",
              "       width=\"24px\">\n",
              "    <path d=\"M0 0h24v24H0V0z\" fill=\"none\"/>\n",
              "    <path d=\"M18.56 5.44l.94 2.06.94-2.06 2.06-.94-2.06-.94-.94-2.06-.94 2.06-2.06.94zm-11 1L8.5 8.5l.94-2.06 2.06-.94-2.06-.94L8.5 2.5l-.94 2.06-2.06.94zm10 10l.94 2.06.94-2.06 2.06-.94-2.06-.94-.94-2.06-.94 2.06-2.06.94z\"/><path d=\"M17.41 7.96l-1.37-1.37c-.4-.4-.92-.59-1.43-.59-.52 0-1.04.2-1.43.59L10.3 9.45l-7.72 7.72c-.78.78-.78 2.05 0 2.83L4 21.41c.39.39.9.59 1.41.59.51 0 1.02-.2 1.41-.59l7.78-7.78 2.81-2.81c.8-.78.8-2.07 0-2.86zM5.41 20L4 18.59l7.72-7.72 1.47 1.35L5.41 20z\"/>\n",
              "  </svg>\n",
              "      </button>\n",
              "      \n",
              "  <style>\n",
              "    .colab-df-container {\n",
              "      display:flex;\n",
              "      flex-wrap:wrap;\n",
              "      gap: 12px;\n",
              "    }\n",
              "\n",
              "    .colab-df-convert {\n",
              "      background-color: #E8F0FE;\n",
              "      border: none;\n",
              "      border-radius: 50%;\n",
              "      cursor: pointer;\n",
              "      display: none;\n",
              "      fill: #1967D2;\n",
              "      height: 32px;\n",
              "      padding: 0 0 0 0;\n",
              "      width: 32px;\n",
              "    }\n",
              "\n",
              "    .colab-df-convert:hover {\n",
              "      background-color: #E2EBFA;\n",
              "      box-shadow: 0px 1px 2px rgba(60, 64, 67, 0.3), 0px 1px 3px 1px rgba(60, 64, 67, 0.15);\n",
              "      fill: #174EA6;\n",
              "    }\n",
              "\n",
              "    [theme=dark] .colab-df-convert {\n",
              "      background-color: #3B4455;\n",
              "      fill: #D2E3FC;\n",
              "    }\n",
              "\n",
              "    [theme=dark] .colab-df-convert:hover {\n",
              "      background-color: #434B5C;\n",
              "      box-shadow: 0px 1px 3px 1px rgba(0, 0, 0, 0.15);\n",
              "      filter: drop-shadow(0px 1px 2px rgba(0, 0, 0, 0.3));\n",
              "      fill: #FFFFFF;\n",
              "    }\n",
              "  </style>\n",
              "\n",
              "      <script>\n",
              "        const buttonEl =\n",
              "          document.querySelector('#df-ac60e150-db4f-4cb3-b724-f253563625d8 button.colab-df-convert');\n",
              "        buttonEl.style.display =\n",
              "          google.colab.kernel.accessAllowed ? 'block' : 'none';\n",
              "\n",
              "        async function convertToInteractive(key) {\n",
              "          const element = document.querySelector('#df-ac60e150-db4f-4cb3-b724-f253563625d8');\n",
              "          const dataTable =\n",
              "            await google.colab.kernel.invokeFunction('convertToInteractive',\n",
              "                                                     [key], {});\n",
              "          if (!dataTable) return;\n",
              "\n",
              "          const docLinkHtml = 'Like what you see? Visit the ' +\n",
              "            '<a target=\"_blank\" href=https://colab.research.google.com/notebooks/data_table.ipynb>data table notebook</a>'\n",
              "            + ' to learn more about interactive tables.';\n",
              "          element.innerHTML = '';\n",
              "          dataTable['output_type'] = 'display_data';\n",
              "          await google.colab.output.renderOutput(dataTable, element);\n",
              "          const docLink = document.createElement('div');\n",
              "          docLink.innerHTML = docLinkHtml;\n",
              "          element.appendChild(docLink);\n",
              "        }\n",
              "      </script>\n",
              "    </div>\n",
              "  </div>\n",
              "  "
            ]
          },
          "metadata": {},
          "execution_count": 3
        }
      ]
    },
    {
      "cell_type": "code",
      "source": [
        "dataset.columns = dataset.columns.str.replace(' ', '')"
      ],
      "metadata": {
        "id": "6bpov-7K2-F9"
      },
      "execution_count": 8,
      "outputs": []
    },
    {
      "cell_type": "code",
      "source": [
        "classes = list(dataset[\"class\"].unique())\n",
        "classes"
      ],
      "metadata": {
        "colab": {
          "base_uri": "https://localhost:8080/"
        },
        "id": "jdtiXYOnIUlD",
        "outputId": "0225b931-c70e-4487-9631-750945723c6c"
      },
      "execution_count": 6,
      "outputs": [
        {
          "output_type": "execute_result",
          "data": {
            "text/plain": [
              "['ontime', 'late', 'verylate', 'cancelled']"
            ]
          },
          "metadata": {},
          "execution_count": 6
        }
      ]
    },
    {
      "cell_type": "code",
      "source": [
        "attributes = []\n",
        "attributes = list(dataset.columns[:-1])\n",
        "for a in attributes:\n",
        "  dataset[a] = dataset[a].str.strip() #removing spaces from field"
      ],
      "metadata": {
        "id": "BiyAlAyc3tnK"
      },
      "execution_count": 9,
      "outputs": []
    },
    {
      "cell_type": "code",
      "source": [
        "class NaiveBayesClassifier:\n",
        "  def __init__(self, dataset, classes, attributes):\n",
        "    self.dataset = dataset\n",
        "    self.classes = classes\n",
        "    self.attributes = attributes\n",
        "    self.length = len(dataset)\n",
        "    self.attribiuteProb = {}\n",
        "    self.classProbability = {}\n",
        "    self.classCount = {}\n",
        "    self.attributeDict = {}\n",
        "    self.clsPosteriroProb = {i:0 for i in classes}\n",
        "\n",
        "    for a in attributes:\n",
        "      self.attributeDict[a] = list(dataset[a].unique())\n",
        "    for c in classes:\n",
        "      self.classCount[c] = dataset[\"class\"].value_counts()[c]\n",
        "\n",
        "    \n",
        "  def priorProbability(self):\n",
        "    for c in classes:\n",
        "      self.classProbability[c] = dataset[\"class\"].value_counts()[c]/self.length\n",
        "    return self.classProbability\n",
        "  \n",
        "  def conditionalProbability(self):\n",
        "    for key, values in self.attributeDict.items():\n",
        "      for value in values:\n",
        "        att = []\n",
        "        for c in classes:\n",
        "          attributeFreq = len(dataset[(dataset[key] == value) & (dataset[\"class\"]==c)]) #attribute frequency for per class\n",
        "          computedProbability = attributeFreq/self.classCount[c]\n",
        "          att.append(computedProbability)\n",
        "          self.attribiuteProb[value] = att\n",
        "    self.posteriorDF = pd.DataFrame.from_dict(self.attribiuteProb, orient='index', columns = classes)\n",
        "    return self.posteriorDF\n",
        "\n",
        "  def posteriorProbability(self,attributeInInteres):\n",
        "    for c in classes:\n",
        "      probabilityProduct = 1\n",
        "      self.posteriorDF = self.conditionalProbability()\n",
        "      self.classProbability = self.priorProbability()\n",
        "      \n",
        "      for attribute in attributeInInteres:\n",
        "          probabilityProduct *= self.posteriorDF.loc[attribute][c] #loc[name][index]\n",
        "          self.clsPosteriroProb[c] = probabilityProduct * self.classProbability[c]\n",
        "\n",
        "    return self.clsPosteriroProb\n",
        "  \n",
        "  def predictedClass(self,attributeInInteres):\n",
        "      self.clsPosteriroProb = self.posteriorProbability(attributeInInteres)\n",
        "      predictedMaxValue = max(self.clsPosteriroProb.values())\n",
        "      predictedMaxValue\n",
        "      #EXTRACTING key FROM DICTIONARY USING value\n",
        "      predictedClass = list(self.clsPosteriroProb.keys())[list(self.clsPosteriroProb.values()).index(predictedMaxValue)]\n",
        "\n",
        "      return predictedClass\n",
        "\n",
        "  def normalization(self, attributeInInteres):\n",
        "      self.clsPosteriroProb = self.posteriorProbability(attributeInInteres)\n",
        "      posteriorValues = self.clsPosteriroProb.values()\n",
        "      normalizedPosValue = [value/sum(posteriorValues) for value in posteriorValues]\n",
        "      maxNormalizedVal = max(normalizedPosValue)\n",
        "      predictedNormClass = list(self.clsPosteriroProb.keys())[normalizedPosValue.index(maxNormalizedVal)]\n",
        "      return predictedNormClass\n",
        "       \n",
        "\n",
        "\n",
        "\n"
      ],
      "metadata": {
        "id": "F8tcGOo73_DE"
      },
      "execution_count": 73,
      "outputs": []
    },
    {
      "cell_type": "code",
      "source": [
        "nb = NaiveBayesClassifier(dataset, classes, attributes)\n",
        "attributeInInteres = ['saturday', 'spring', 'high', 'heavy']\n",
        "nb.predictedClass(attributeInInteres)\n"
      ],
      "metadata": {
        "colab": {
          "base_uri": "https://localhost:8080/",
          "height": 36
        },
        "id": "wZ_IGLLTK8fk",
        "outputId": "5003597d-2e5e-4e37-dd27-8580f628c721"
      },
      "execution_count": 77,
      "outputs": [
        {
          "output_type": "execute_result",
          "data": {
            "text/plain": [
              "'cancelled'"
            ],
            "application/vnd.google.colaboratory.intrinsic+json": {
              "type": "string"
            }
          },
          "metadata": {},
          "execution_count": 77
        }
      ]
    },
    {
      "cell_type": "code",
      "source": [
        "nb.normalization(attributeInInteres)"
      ],
      "metadata": {
        "colab": {
          "base_uri": "https://localhost:8080/",
          "height": 36
        },
        "id": "-aWln_16LP7t",
        "outputId": "7e0e4c58-d3f9-4275-c08b-fe1947e13238"
      },
      "execution_count": 76,
      "outputs": [
        {
          "output_type": "execute_result",
          "data": {
            "text/plain": [
              "'cancelled'"
            ],
            "application/vnd.google.colaboratory.intrinsic+json": {
              "type": "string"
            }
          },
          "metadata": {},
          "execution_count": 76
        }
      ]
    },
    {
      "cell_type": "code",
      "source": [
        ""
      ],
      "metadata": {
        "id": "lzMAup5EWdfw"
      },
      "execution_count": null,
      "outputs": []
    }
  ]
}